{
 "cells": [
  {
   "cell_type": "markdown",
   "id": "76cc3913",
   "metadata": {},
   "source": [
    "# Sahya Sree Kundeti - Task 1\n",
    "\n",
    "# Prediction using Supervised machine learning"
   ]
  },
  {
   "cell_type": "markdown",
   "id": "b2bedc8d",
   "metadata": {},
   "source": [
    "Problem Statement: Predict the scores of students based on their hours of study."
   ]
  },
  {
   "cell_type": "markdown",
   "id": "259243e1",
   "metadata": {},
   "source": [
    "# Importing required libraries"
   ]
  },
  {
   "cell_type": "code",
   "execution_count": 62,
   "id": "4f0bfeea",
   "metadata": {},
   "outputs": [],
   "source": [
    "import numpy as np\n",
    "import pandas as pd\n",
    "import matplotlib.pyplot as plt"
   ]
  },
  {
   "cell_type": "markdown",
   "id": "ea796311",
   "metadata": {},
   "source": [
    "# Importing the dataset"
   ]
  },
  {
   "cell_type": "code",
   "execution_count": 63,
   "id": "f81c8cd0",
   "metadata": {},
   "outputs": [
    {
     "name": "stdout",
     "output_type": "stream",
     "text": [
      "data imported successfully :)\n"
     ]
    },
    {
     "data": {
      "text/html": [
       "<div>\n",
       "<style scoped>\n",
       "    .dataframe tbody tr th:only-of-type {\n",
       "        vertical-align: middle;\n",
       "    }\n",
       "\n",
       "    .dataframe tbody tr th {\n",
       "        vertical-align: top;\n",
       "    }\n",
       "\n",
       "    .dataframe thead th {\n",
       "        text-align: right;\n",
       "    }\n",
       "</style>\n",
       "<table border=\"1\" class=\"dataframe\">\n",
       "  <thead>\n",
       "    <tr style=\"text-align: right;\">\n",
       "      <th></th>\n",
       "      <th>Hours</th>\n",
       "      <th>Scores</th>\n",
       "    </tr>\n",
       "  </thead>\n",
       "  <tbody>\n",
       "    <tr>\n",
       "      <th>0</th>\n",
       "      <td>2.5</td>\n",
       "      <td>21</td>\n",
       "    </tr>\n",
       "    <tr>\n",
       "      <th>1</th>\n",
       "      <td>5.1</td>\n",
       "      <td>47</td>\n",
       "    </tr>\n",
       "    <tr>\n",
       "      <th>2</th>\n",
       "      <td>3.2</td>\n",
       "      <td>27</td>\n",
       "    </tr>\n",
       "    <tr>\n",
       "      <th>3</th>\n",
       "      <td>8.5</td>\n",
       "      <td>75</td>\n",
       "    </tr>\n",
       "    <tr>\n",
       "      <th>4</th>\n",
       "      <td>3.5</td>\n",
       "      <td>30</td>\n",
       "    </tr>\n",
       "  </tbody>\n",
       "</table>\n",
       "</div>"
      ],
      "text/plain": [
       "   Hours  Scores\n",
       "0    2.5      21\n",
       "1    5.1      47\n",
       "2    3.2      27\n",
       "3    8.5      75\n",
       "4    3.5      30"
      ]
     },
     "execution_count": 63,
     "metadata": {},
     "output_type": "execute_result"
    }
   ],
   "source": [
    "# importing required data\n",
    "data = pd.read_csv('student.csv')\n",
    "print('data imported successfully :)')\n",
    "data.head()"
   ]
  },
  {
   "cell_type": "markdown",
   "id": "98e8ec7f",
   "metadata": {},
   "source": [
    "# Defining independent and dependent variables"
   ]
  },
  {
   "cell_type": "code",
   "execution_count": 64,
   "id": "e699dd4f",
   "metadata": {},
   "outputs": [],
   "source": [
    "# let X represent independent variable and Y represent dependent variable\n",
    "# dependent variable Y is the score and independent variable X is Hours of study\n",
    "X = data.iloc[:, :-1].values  \n",
    "Y = data.iloc[:, 1].values  "
   ]
  },
  {
   "cell_type": "markdown",
   "id": "b19c8d1b",
   "metadata": {},
   "source": [
    "# Plotting a scatter plot of the data"
   ]
  },
  {
   "cell_type": "markdown",
   "id": "38a1731d",
   "metadata": {},
   "source": [
    "Plotting a scatter plot on our data to see the distribution of data and to check whether there is any relationship between dependent and variables."
   ]
  },
  {
   "cell_type": "code",
   "execution_count": 65,
   "id": "5773a7c1",
   "metadata": {},
   "outputs": [
    {
     "data": {
      "image/png": "[encoded data removed]",
      "text/plain": [
       "<Figure size 640x480 with 1 Axes>"
      ]
     },
     "metadata": {},
     "output_type": "display_data"
    }
   ],
   "source": [
    "plt.scatter(X,Y,color='green')\n",
    "plt.title('hours VS score')\n",
    "plt.xlabel('Hours of study')\n",
    "plt.ylabel('Percentage obtained')\n",
    "plt.show()"
   ]
  },
  {
   "cell_type": "markdown",
   "id": "3dc88d36",
   "metadata": {},
   "source": [
    "From the above scatter plot we observe that there is a linear relation between the dependent and independent variables that is hours of study and their score are linearly related"
   ]
  },
  {
   "cell_type": "markdown",
   "id": "9b1bbdb0",
   "metadata": {},
   "source": [
    "Now that we got a relationship between them which is linear in nature,we use linear regression to predict the score. We split our data into train and test sets to implement the algorithm."
   ]
  },
  {
   "cell_type": "code",
   "execution_count": 66,
   "id": "24050d31",
   "metadata": {},
   "outputs": [
    {
     "data": {
      "text/plain": [
       "((16, 1), (9, 1), (16,), (9,))"
      ]
     },
     "execution_count": 66,
     "metadata": {},
     "output_type": "execute_result"
    }
   ],
   "source": [
    "from sklearn.model_selection import train_test_split as tts\n",
    "X_train, X_test, Y_train, Y_test = tts(X,Y,test_size=0.33,random_state=0)\n",
    "X_train.shape , X_test.shape, Y_train.shape, Y_test.shape"
   ]
  },
  {
   "cell_type": "markdown",
   "id": "bd120308",
   "metadata": {},
   "source": [
    "# Training "
   ]
  },
  {
   "cell_type": "markdown",
   "id": "c33ec90f",
   "metadata": {},
   "source": [
    "Finally we use LinearRegression to train the model. We use X_train, Y_train sets to train the model"
   ]
  },
  {
   "cell_type": "code",
   "execution_count": 67,
   "id": "33fd3bd9",
   "metadata": {},
   "outputs": [
    {
     "name": "stdout",
     "output_type": "stream",
     "text": [
      "training complete\n"
     ]
    }
   ],
   "source": [
    "from sklearn.linear_model import LinearRegression\n",
    "lr = LinearRegression() #creating an object \n",
    "lr.fit(X_train,Y_train)\n",
    "print('training complete')"
   ]
  },
  {
   "cell_type": "markdown",
   "id": "f3bb87fe",
   "metadata": {},
   "source": [
    "# Plotting regression line"
   ]
  },
  {
   "cell_type": "code",
   "execution_count": 68,
   "id": "d6468091",
   "metadata": {},
   "outputs": [
    {
     "data": {
      "image/png": "[encoded data removed]",
      "text/plain": [
       "<Figure size 640x480 with 1 Axes>"
      ]
     },
     "metadata": {},
     "output_type": "display_data"
    }
   ],
   "source": [
    "# Plotting the regression line\n",
    "line = lr.coef_*X+lr.intercept_\n",
    "\n",
    "# Plotting scatter plot for trained model\n",
    "plt.scatter(X, Y,color='red')\n",
    "plt.plot(X, line);\n",
    "plt.show()"
   ]
  },
  {
   "cell_type": "markdown",
   "id": "5851b2a2",
   "metadata": {},
   "source": [
    "# Making Predictions"
   ]
  },
  {
   "cell_type": "markdown",
   "id": "a29749c6",
   "metadata": {},
   "source": [
    "Now that we have trained the model, let's make predictions "
   ]
  },
  {
   "cell_type": "code",
   "execution_count": 69,
   "id": "eb64103a",
   "metadata": {},
   "outputs": [
    {
     "name": "stdout",
     "output_type": "stream",
     "text": [
      "[[1.5]\n",
      " [3.2]\n",
      " [7.4]\n",
      " [2.5]\n",
      " [5.9]\n",
      " [3.8]\n",
      " [1.9]\n",
      " [7.8]\n",
      " [6.9]]\n"
     ]
    }
   ],
   "source": [
    "print(X_test) # Testing data - In Hours\n",
    "y_pred = lr.predict(X_test) # Predicting the scores"
   ]
  },
  {
   "cell_type": "markdown",
   "id": "9dfa407f",
   "metadata": {},
   "source": [
    "# Comparing actual VS predicted values"
   ]
  },
  {
   "cell_type": "code",
   "execution_count": 70,
   "id": "b8e57812",
   "metadata": {
    "scrolled": true
   },
   "outputs": [
    {
     "data": {
      "text/html": [
       "<div>\n",
       "<style scoped>\n",
       "    .dataframe tbody tr th:only-of-type {\n",
       "        vertical-align: middle;\n",
       "    }\n",
       "\n",
       "    .dataframe tbody tr th {\n",
       "        vertical-align: top;\n",
       "    }\n",
       "\n",
       "    .dataframe thead th {\n",
       "        text-align: right;\n",
       "    }\n",
       "</style>\n",
       "<table border=\"1\" class=\"dataframe\">\n",
       "  <thead>\n",
       "    <tr style=\"text-align: right;\">\n",
       "      <th></th>\n",
       "      <th>Actual</th>\n",
       "      <th>Predicted</th>\n",
       "    </tr>\n",
       "  </thead>\n",
       "  <tbody>\n",
       "    <tr>\n",
       "      <th>0</th>\n",
       "      <td>20</td>\n",
       "      <td>17.042892</td>\n",
       "    </tr>\n",
       "    <tr>\n",
       "      <th>1</th>\n",
       "      <td>27</td>\n",
       "      <td>33.516954</td>\n",
       "    </tr>\n",
       "    <tr>\n",
       "      <th>2</th>\n",
       "      <td>69</td>\n",
       "      <td>74.217577</td>\n",
       "    </tr>\n",
       "    <tr>\n",
       "      <th>3</th>\n",
       "      <td>30</td>\n",
       "      <td>26.733516</td>\n",
       "    </tr>\n",
       "    <tr>\n",
       "      <th>4</th>\n",
       "      <td>62</td>\n",
       "      <td>59.681640</td>\n",
       "    </tr>\n",
       "    <tr>\n",
       "      <th>5</th>\n",
       "      <td>35</td>\n",
       "      <td>39.331329</td>\n",
       "    </tr>\n",
       "    <tr>\n",
       "      <th>6</th>\n",
       "      <td>24</td>\n",
       "      <td>20.919142</td>\n",
       "    </tr>\n",
       "    <tr>\n",
       "      <th>7</th>\n",
       "      <td>86</td>\n",
       "      <td>78.093827</td>\n",
       "    </tr>\n",
       "    <tr>\n",
       "      <th>8</th>\n",
       "      <td>76</td>\n",
       "      <td>69.372265</td>\n",
       "    </tr>\n",
       "  </tbody>\n",
       "</table>\n",
       "</div>"
      ],
      "text/plain": [
       "   Actual  Predicted\n",
       "0      20  17.042892\n",
       "1      27  33.516954\n",
       "2      69  74.217577\n",
       "3      30  26.733516\n",
       "4      62  59.681640\n",
       "5      35  39.331329\n",
       "6      24  20.919142\n",
       "7      86  78.093827\n",
       "8      76  69.372265"
      ]
     },
     "execution_count": 70,
     "metadata": {},
     "output_type": "execute_result"
    }
   ],
   "source": [
    "# Comparing actual VS predicted values\n",
    "df = pd.DataFrame({'Actual': Y_test, 'Predicted': y_pred})  \n",
    "df"
   ]
  },
  {
   "cell_type": "markdown",
   "id": "2fbef203",
   "metadata": {},
   "source": [
    "# Evaluation Step"
   ]
  },
  {
   "cell_type": "markdown",
   "id": "dc5a7543",
   "metadata": {},
   "source": [
    "The final step is to evaluate the performance of algorithm. This step is particularly important to compare how well different algorithms perform on a particular dataset. For simplicity here, we have chosen the mean square error. There are many such metrics."
   ]
  },
  {
   "cell_type": "code",
   "execution_count": 71,
   "id": "c20885fd",
   "metadata": {},
   "outputs": [],
   "source": [
    "df['residual']=np.abs(df['Actual']-df['Predicted'])"
   ]
  },
  {
   "cell_type": "code",
   "execution_count": 72,
   "id": "a1471d2b",
   "metadata": {},
   "outputs": [
    {
     "data": {
      "text/plain": [
       "4.691397441397438"
      ]
     },
     "execution_count": 72,
     "metadata": {},
     "output_type": "execute_result"
    }
   ],
   "source": [
    "np.mean(df['residual'])"
   ]
  },
  {
   "cell_type": "markdown",
   "id": "60e5e241",
   "metadata": {},
   "source": [
    "# Score"
   ]
  },
  {
   "cell_type": "markdown",
   "id": "663d96ec",
   "metadata": {},
   "source": [
    "Let's calculate the score for test set"
   ]
  },
  {
   "cell_type": "code",
   "execution_count": 73,
   "id": "f04e6538",
   "metadata": {},
   "outputs": [
    {
     "data": {
      "text/plain": [
       "0.955570080138813"
      ]
     },
     "execution_count": 73,
     "metadata": {},
     "output_type": "execute_result"
    }
   ],
   "source": [
    "lr.score(X_test,Y_test)"
   ]
  },
  {
   "cell_type": "markdown",
   "id": "e43b35e9",
   "metadata": {},
   "source": [
    "It gave us about 95.557% score that is our model is 95.557% accurate on prediction of scores of student"
   ]
  },
  {
   "cell_type": "code",
   "execution_count": null,
   "id": "c8481852",
   "metadata": {},
   "outputs": [],
   "source": []
  }
 ],
 "metadata": {
  "kernelspec": {
   "display_name": "Python 3 (ipykernel)",
   "language": "python",
   "name": "python3"
  },
  "language_info": {
   "codemirror_mode": {
    "name": "ipython",
    "version": 3
   },
   "file_extension": ".py",
   "mimetype": "text/x-python",
   "name": "python",
   "nbconvert_exporter": "python",
   "pygments_lexer": "ipython3",
   "version": "3.11.4"
  }
 },
 "nbformat": 4,
 "nbformat_minor": 5
}
